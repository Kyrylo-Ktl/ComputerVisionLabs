{
 "cells": [
  {
   "cell_type": "code",
   "execution_count": 1,
   "metadata": {
    "collapsed": true,
    "ExecuteTime": {
     "end_time": "2024-01-18T09:49:23.470947404Z",
     "start_time": "2024-01-18T09:49:22.550393515Z"
    }
   },
   "outputs": [],
   "source": [
    "import cv2 as cv\n",
    "import numpy as np\n",
    "from scipy.signal import convolve2d\n",
    "\n",
    "\n",
    "def lucas_kanade(first_image_path: str, second_image_path: str):\n",
    "    myframe = cv.imread(first_image_path)\n",
    "    Image1 = cv.cvtColor(myframe, cv.COLOR_BGR2GRAY)\n",
    "\n",
    "    newframe = cv.imread(second_image_path)\n",
    "    Image2 = cv.cvtColor(newframe, cv.COLOR_BGR2GRAY)\n",
    "\n",
    "    color = np.random.randint(0, 255, (100, 3))\n",
    "    Gx = np.reshape(np.asarray([[-1, 1], [-1, 1]]), (2, 2))\n",
    "    Gy = np.reshape(np.asarray([[-1, -1], [1, 1]]), (2, 2))\n",
    "    Gt1 = np.reshape(np.asarray([[-1, -1], [-1, -1]]), (2, 2))\n",
    "    Gt2 = np.reshape(np.asarray([[1, 1], [1, 1]]), (2, 2))\n",
    "\n",
    "    Ix = (convolve2d(Image1, Gx) + convolve2d(Image2, Gx)) / 2\n",
    "    Iy = (convolve2d(Image1, Gy) + convolve2d(Image2, Gy)) / 2\n",
    "    It1 = convolve2d(Image1, Gt1) + convolve2d(Image2, Gt2)\n",
    "\n",
    "    feature_params = dict(maxCorners=100,\n",
    "                          qualityLevel=0.3,\n",
    "                          minDistance=7,\n",
    "                          blockSize=7)\n",
    "\n",
    "    features = cv.goodFeaturesToTrack(Image1, mask=None, **feature_params)\n",
    "    feature = np.int32(features)\n",
    "    feature = np.reshape(feature, newshape=[-1, 2])\n",
    "\n",
    "    u = np.ones(Ix.shape)\n",
    "    v = np.ones(Ix.shape)\n",
    "    status = np.zeros(feature.shape[0])\n",
    "    A = np.zeros((2, 2))\n",
    "    B = np.zeros((2, 1))\n",
    "    mask = np.zeros_like(myframe)\n",
    "    newFeature = np.zeros_like(feature)\n",
    "\n",
    "    for a, (x, y) in enumerate(feature):\n",
    "\n",
    "        A[0, 0] = np.sum((Ix[y - 1:y + 2, x - 1:x + 2]) ** 2)\n",
    "        A[1, 1] = np.sum((Iy[y - 1:y + 2, x - 1:x + 2]) ** 2)\n",
    "        A[0, 1] = np.sum(Ix[y - 1:y + 2, x - 1:x + 2] * Iy[y - 1:y + 2, x - 1:x + 2])\n",
    "        A[1, 0] = np.sum(Ix[y - 1:y + 2, x - 1:x + 2] * Iy[y - 1:y + 2, x - 1:x + 2])\n",
    "\n",
    "        B[0, 0] = -np.sum(Ix[y - 1:y + 2, x - 1:x + 2] * It1[y - 1:y + 2, x - 1:x + 2])\n",
    "        B[1, 0] = -np.sum(Iy[y - 1:y + 2, x - 1:x + 2] * It1[y - 1:y + 2, x - 1:x + 2])\n",
    "        prod = np.matmul(np.linalg.pinv(A), B)\n",
    "\n",
    "        u[y, x] = prod[0]\n",
    "        v[y, x] = prod[1]\n",
    "\n",
    "        newFeature[a] = [np.int32(x + u[y, x]), np.int32(y + v[y, x])]\n",
    "\n",
    "        if np.int32(x + u[y, x]) == x and np.int32(y + v[y, x]) == y:\n",
    "            status[a] = 0\n",
    "        else:\n",
    "            status[a] = 1\n",
    "\n",
    "    good_new = newFeature[status == 1]\n",
    "    good_old = feature[status == 1]\n",
    "\n",
    "    for i, (new, old) in enumerate(zip(good_new, good_old)):\n",
    "        a, b = new.ravel()\n",
    "        c, d = old.ravel()\n",
    "        mask = cv.line(mask, (a, b), (c, d), color[i].tolist(), 2)\n",
    "        newframe = cv.circle(newframe, (a, b), 5, color[i].tolist(), -1)\n",
    "\n",
    "    return cv.add(newframe, mask)"
   ]
  },
  {
   "cell_type": "code",
   "execution_count": 2,
   "metadata": {
    "ExecuteTime": {
     "end_time": "2024-01-18T09:49:24.447285626Z",
     "start_time": "2024-01-18T09:49:23.466209879Z"
    }
   },
   "outputs": [],
   "source": [
    "result = lucas_kanade('data/LB4/frame_a.png', 'data/LB4/frame_b.png')"
   ]
  },
  {
   "cell_type": "code",
   "execution_count": null,
   "metadata": {
    "is_executing": true,
    "ExecuteTime": {
     "start_time": "2024-01-18T09:49:24.427285297Z"
    }
   },
   "outputs": [],
   "source": [
    "cv.imshow('window_name', result)\n",
    "cv.waitKey(0)\n",
    "cv.destroyAllWindows()"
   ]
  }
 ],
 "metadata": {
  "kernelspec": {
   "display_name": "Python 3 (ipykernel)",
   "language": "python",
   "name": "python3"
  },
  "language_info": {
   "codemirror_mode": {
    "name": "ipython",
    "version": 3
   },
   "file_extension": ".py",
   "mimetype": "text/x-python",
   "name": "python",
   "nbconvert_exporter": "python",
   "pygments_lexer": "ipython3",
   "version": "3.8.10"
  }
 },
 "nbformat": 4,
 "nbformat_minor": 1
}

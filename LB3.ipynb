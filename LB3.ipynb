{
 "cells": [
  {
   "cell_type": "code",
   "execution_count": 1,
   "metadata": {},
   "outputs": [],
   "source": [
    "import cv2"
   ]
  },
  {
   "cell_type": "code",
   "execution_count": 2,
   "metadata": {},
   "outputs": [],
   "source": [
    "LINE_WIDTH = 2\n",
    "\n",
    "GREEN_COLOR = (0, 255, 0)\n",
    "RED_COLOR = (255, 0, 0)"
   ]
  },
  {
   "cell_type": "code",
   "execution_count": 3,
   "metadata": {},
   "outputs": [],
   "source": [
    "face_cascade = cv2.CascadeClassifier('data/LB3/haarcascade_frontalface_default.xml')\n",
    "eye_cascade = cv2.CascadeClassifier('data/LB3/haarcascade_eye.xml')"
   ]
  },
  {
   "cell_type": "code",
   "execution_count": 4,
   "metadata": {},
   "outputs": [],
   "source": [
    "capture = cv2.VideoCapture(0)"
   ]
  },
  {
   "cell_type": "code",
   "execution_count": 5,
   "metadata": {},
   "outputs": [],
   "source": [
    "while cv2.waitKey(30) != ord('q'):\n",
    "    is_retrieved, image = capture.read()\n",
    "\n",
    "    if not is_retrieved:\n",
    "        break\n",
    "\n",
    "    gray = cv2.cvtColor(image, cv2.COLOR_BGR2GRAY)\n",
    "\n",
    "    for x, y, w, h in face_cascade.detectMultiScale(gray, scaleFactor=1.3, minNeighbors=5):\n",
    "        cv2.rectangle(image, (x, y), (x + w, y + h), RED_COLOR, thickness=LINE_WIDTH)\n",
    "\n",
    "        roi_gray = gray[y:y + h, x:x + w]\n",
    "        roi_color = image[y:y + h, x:x + w]\n",
    "\n",
    "        for ex, ey, ew, eh in eye_cascade.detectMultiScale(roi_gray):\n",
    "            cv2.rectangle(roi_color, (ex, ey), (ex + ew, ey + eh), GREEN_COLOR, thickness=LINE_WIDTH)\n",
    "\n",
    "        cv2.imshow('Face detecting', image)"
   ]
  },
  {
   "cell_type": "code",
   "execution_count": 6,
   "metadata": {},
   "outputs": [],
   "source": [
    "capture.release()\n",
    "cv2.destroyAllWindows()"
   ]
  }
 ],
 "metadata": {
  "kernelspec": {
   "display_name": "Python 3 (ipykernel)",
   "language": "python",
   "name": "python3"
  },
  "language_info": {
   "codemirror_mode": {
    "name": "ipython",
    "version": 3
   },
   "file_extension": ".py",
   "mimetype": "text/x-python",
   "name": "python",
   "nbconvert_exporter": "python",
   "pygments_lexer": "ipython3",
   "version": "3.8.10"
  }
 },
 "nbformat": 4,
 "nbformat_minor": 1
}
